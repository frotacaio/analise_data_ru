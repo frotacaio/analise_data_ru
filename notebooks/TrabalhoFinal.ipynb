{
  "cells": [
    {
      "cell_type": "markdown",
      "metadata": {
        "id": "xnptR0DWglTw"
      },
      "source": [
        "# Trabalho Final - Tópicos Especiais em Computação I"
      ]
    },
    {
      "cell_type": "code",
      "execution_count": 62,
      "metadata": {
        "id": "YWk2jFwVaGqP"
      },
      "outputs": [],
      "source": [
        "#Importando as bibliotecas\n",
        "import numpy as np\n",
        "import pandas as pd\n",
        "import matplotlib.pyplot as plt\n",
        "import seaborn as sns\n",
        "from datetime import date, time, datetime, timedelta\n",
        "from dateutil.relativedelta import relativedelta\n",
        "from sklearn.linear_model import LinearRegression\n",
        "from sklearn.metrics import r2_score\n",
        "from sklearn.model_selection import train_test_split\n",
        "from sklearn.ensemble import RandomForestRegressor\n",
        "\n",
        "from analise_data_ru import ROOT_PATH"
      ]
    },
    {
      "cell_type": "code",
      "execution_count": 5,
      "metadata": {
        "id": "BJ3k_wuidljS"
      },
      "outputs": [],
      "source": [
        "import warnings\n",
        "\n",
        "from sklearn.preprocessing import StandardScaler, MinMaxScaler\n",
        "warnings.simplefilter(action='ignore', category=FutureWarning)"
      ]
    },
    {
      "cell_type": "markdown",
      "metadata": {
        "id": "73dlvYjDg42A"
      },
      "source": [
        "## Obtain(Obter)\n",
        "### Nesta etapa, os cientistas de dados identificam as fontes de dados relevantes para o projeto. Isso pode envolver a coleta de dados brutos de várias fontes, como bancos de dados, APIs, arquivos CSV, textos da web, entre outros. É importante considerar as questões de privacidade e ética ao obter os dados necessários para o projeto.\n",
        "### No nosso caso o dataset utilizado é referente a quantidade de refeições no Restaurante Universitário do Campus Sobral."
      ]
    },
    {
      "cell_type": "code",
      "execution_count": 7,
      "metadata": {
        "colab": {
          "base_uri": "https://localhost:8080/",
          "height": 311
        },
        "id": "Wd5J0YdpaUqw",
        "outputId": "9e1b157f-72a8-49aa-9e0f-98a175e14213"
      },
      "outputs": [],
      "source": [
        "df = pd.read_csv(ROOT_PATH / 'data' / 'raw' / 'data_ru.csv', delimiter=\";\")"
      ]
    },
    {
      "cell_type": "code",
      "execution_count": 8,
      "metadata": {
        "colab": {
          "base_uri": "https://localhost:8080/"
        },
        "id": "0MKCcvD1cIH8",
        "outputId": "c23824ed-7b17-44d0-e910-9b6edd1011ad"
      },
      "outputs": [
        {
          "name": "stdout",
          "output_type": "stream",
          "text": [
            "<class 'pandas.core.frame.DataFrame'>\n",
            "RangeIndex: 1095 entries, 0 to 1094\n",
            "Data columns (total 3 columns):\n",
            " #   Column  Non-Null Count  Dtype \n",
            "---  ------  --------------  ----- \n",
            " 0   date    1095 non-null   object\n",
            " 1   lunch   1095 non-null   int64 \n",
            " 2   dinner  1095 non-null   int64 \n",
            "dtypes: int64(2), object(1)\n",
            "memory usage: 25.8+ KB\n"
          ]
        }
      ],
      "source": [
        "df.info()"
      ]
    },
    {
      "cell_type": "code",
      "execution_count": 9,
      "metadata": {
        "colab": {
          "base_uri": "https://localhost:8080/",
          "height": 206
        },
        "id": "wh1hkb9EcM9q",
        "outputId": "14569e81-f7d5-408f-9687-069a5db3f953"
      },
      "outputs": [
        {
          "data": {
            "text/html": [
              "<div>\n",
              "<style scoped>\n",
              "    .dataframe tbody tr th:only-of-type {\n",
              "        vertical-align: middle;\n",
              "    }\n",
              "\n",
              "    .dataframe tbody tr th {\n",
              "        vertical-align: top;\n",
              "    }\n",
              "\n",
              "    .dataframe thead th {\n",
              "        text-align: right;\n",
              "    }\n",
              "</style>\n",
              "<table border=\"1\" class=\"dataframe\">\n",
              "  <thead>\n",
              "    <tr style=\"text-align: right;\">\n",
              "      <th></th>\n",
              "      <th>date</th>\n",
              "      <th>lunch</th>\n",
              "      <th>dinner</th>\n",
              "    </tr>\n",
              "  </thead>\n",
              "  <tbody>\n",
              "    <tr>\n",
              "      <th>0</th>\n",
              "      <td>2016-01-04</td>\n",
              "      <td>364</td>\n",
              "      <td>294</td>\n",
              "    </tr>\n",
              "    <tr>\n",
              "      <th>1</th>\n",
              "      <td>2016-01-05</td>\n",
              "      <td>489</td>\n",
              "      <td>363</td>\n",
              "    </tr>\n",
              "    <tr>\n",
              "      <th>2</th>\n",
              "      <td>2016-01-06</td>\n",
              "      <td>522</td>\n",
              "      <td>401</td>\n",
              "    </tr>\n",
              "    <tr>\n",
              "      <th>3</th>\n",
              "      <td>2016-01-07</td>\n",
              "      <td>514</td>\n",
              "      <td>349</td>\n",
              "    </tr>\n",
              "    <tr>\n",
              "      <th>4</th>\n",
              "      <td>2016-01-08</td>\n",
              "      <td>409</td>\n",
              "      <td>218</td>\n",
              "    </tr>\n",
              "  </tbody>\n",
              "</table>\n",
              "</div>"
            ],
            "text/plain": [
              "         date  lunch  dinner\n",
              "0  2016-01-04    364     294\n",
              "1  2016-01-05    489     363\n",
              "2  2016-01-06    522     401\n",
              "3  2016-01-07    514     349\n",
              "4  2016-01-08    409     218"
            ]
          },
          "execution_count": 9,
          "metadata": {},
          "output_type": "execute_result"
        }
      ],
      "source": [
        "df.head()"
      ]
    },
    {
      "cell_type": "code",
      "execution_count": 10,
      "metadata": {
        "colab": {
          "base_uri": "https://localhost:8080/",
          "height": 206
        },
        "id": "lJgZ0biUemam",
        "outputId": "fa2726ee-5a58-476d-de76-e241856ec38d"
      },
      "outputs": [
        {
          "data": {
            "text/html": [
              "<div>\n",
              "<style scoped>\n",
              "    .dataframe tbody tr th:only-of-type {\n",
              "        vertical-align: middle;\n",
              "    }\n",
              "\n",
              "    .dataframe tbody tr th {\n",
              "        vertical-align: top;\n",
              "    }\n",
              "\n",
              "    .dataframe thead th {\n",
              "        text-align: right;\n",
              "    }\n",
              "</style>\n",
              "<table border=\"1\" class=\"dataframe\">\n",
              "  <thead>\n",
              "    <tr style=\"text-align: right;\">\n",
              "      <th></th>\n",
              "      <th>Data</th>\n",
              "      <th>Qt_almoco</th>\n",
              "      <th>Qt_jantar</th>\n",
              "    </tr>\n",
              "  </thead>\n",
              "  <tbody>\n",
              "    <tr>\n",
              "      <th>0</th>\n",
              "      <td>2016-01-04</td>\n",
              "      <td>364</td>\n",
              "      <td>294</td>\n",
              "    </tr>\n",
              "    <tr>\n",
              "      <th>1</th>\n",
              "      <td>2016-01-05</td>\n",
              "      <td>489</td>\n",
              "      <td>363</td>\n",
              "    </tr>\n",
              "    <tr>\n",
              "      <th>2</th>\n",
              "      <td>2016-01-06</td>\n",
              "      <td>522</td>\n",
              "      <td>401</td>\n",
              "    </tr>\n",
              "    <tr>\n",
              "      <th>3</th>\n",
              "      <td>2016-01-07</td>\n",
              "      <td>514</td>\n",
              "      <td>349</td>\n",
              "    </tr>\n",
              "    <tr>\n",
              "      <th>4</th>\n",
              "      <td>2016-01-08</td>\n",
              "      <td>409</td>\n",
              "      <td>218</td>\n",
              "    </tr>\n",
              "  </tbody>\n",
              "</table>\n",
              "</div>"
            ],
            "text/plain": [
              "         Data  Qt_almoco  Qt_jantar\n",
              "0  2016-01-04        364        294\n",
              "1  2016-01-05        489        363\n",
              "2  2016-01-06        522        401\n",
              "3  2016-01-07        514        349\n",
              "4  2016-01-08        409        218"
            ]
          },
          "execution_count": 10,
          "metadata": {},
          "output_type": "execute_result"
        }
      ],
      "source": [
        "# Renomeia as colunas da base de dados \"parte1\"\n",
        "df = df.rename(columns={'date': 'Data', 'lunch': 'Qt_almoco', 'dinner': 'Qt_jantar'})\n",
        "# Exibe as primeiras 5 linhas da base de dados \"parte1\" após a renomeação das colunas\n",
        "df.head()\n"
      ]
    },
    {
      "cell_type": "code",
      "execution_count": 11,
      "metadata": {
        "colab": {
          "base_uri": "https://localhost:8080/",
          "height": 424
        },
        "id": "jAFjsNp0jtFs",
        "outputId": "954f10a0-bfbc-4821-98d4-d078038ac042"
      },
      "outputs": [
        {
          "data": {
            "text/html": [
              "<div>\n",
              "<style scoped>\n",
              "    .dataframe tbody tr th:only-of-type {\n",
              "        vertical-align: middle;\n",
              "    }\n",
              "\n",
              "    .dataframe tbody tr th {\n",
              "        vertical-align: top;\n",
              "    }\n",
              "\n",
              "    .dataframe thead th {\n",
              "        text-align: right;\n",
              "    }\n",
              "</style>\n",
              "<table border=\"1\" class=\"dataframe\">\n",
              "  <thead>\n",
              "    <tr style=\"text-align: right;\">\n",
              "      <th></th>\n",
              "      <th>Data</th>\n",
              "      <th>Qt_almoco</th>\n",
              "      <th>Qt_jantar</th>\n",
              "    </tr>\n",
              "  </thead>\n",
              "  <tbody>\n",
              "    <tr>\n",
              "      <th>0</th>\n",
              "      <td>2016-01-04</td>\n",
              "      <td>364</td>\n",
              "      <td>294</td>\n",
              "    </tr>\n",
              "    <tr>\n",
              "      <th>1</th>\n",
              "      <td>2016-01-05</td>\n",
              "      <td>489</td>\n",
              "      <td>363</td>\n",
              "    </tr>\n",
              "    <tr>\n",
              "      <th>2</th>\n",
              "      <td>2016-01-06</td>\n",
              "      <td>522</td>\n",
              "      <td>401</td>\n",
              "    </tr>\n",
              "    <tr>\n",
              "      <th>3</th>\n",
              "      <td>2016-01-07</td>\n",
              "      <td>514</td>\n",
              "      <td>349</td>\n",
              "    </tr>\n",
              "    <tr>\n",
              "      <th>4</th>\n",
              "      <td>2016-01-08</td>\n",
              "      <td>409</td>\n",
              "      <td>218</td>\n",
              "    </tr>\n",
              "    <tr>\n",
              "      <th>...</th>\n",
              "      <td>...</td>\n",
              "      <td>...</td>\n",
              "      <td>...</td>\n",
              "    </tr>\n",
              "    <tr>\n",
              "      <th>1090</th>\n",
              "      <td>2020-03-25</td>\n",
              "      <td>0</td>\n",
              "      <td>0</td>\n",
              "    </tr>\n",
              "    <tr>\n",
              "      <th>1091</th>\n",
              "      <td>2020-03-26</td>\n",
              "      <td>11</td>\n",
              "      <td>13</td>\n",
              "    </tr>\n",
              "    <tr>\n",
              "      <th>1092</th>\n",
              "      <td>2020-03-27</td>\n",
              "      <td>15</td>\n",
              "      <td>14</td>\n",
              "    </tr>\n",
              "    <tr>\n",
              "      <th>1093</th>\n",
              "      <td>2020-03-30</td>\n",
              "      <td>13</td>\n",
              "      <td>12</td>\n",
              "    </tr>\n",
              "    <tr>\n",
              "      <th>1094</th>\n",
              "      <td>2020-03-31</td>\n",
              "      <td>14</td>\n",
              "      <td>9</td>\n",
              "    </tr>\n",
              "  </tbody>\n",
              "</table>\n",
              "<p>1095 rows × 3 columns</p>\n",
              "</div>"
            ],
            "text/plain": [
              "            Data  Qt_almoco  Qt_jantar\n",
              "0     2016-01-04        364        294\n",
              "1     2016-01-05        489        363\n",
              "2     2016-01-06        522        401\n",
              "3     2016-01-07        514        349\n",
              "4     2016-01-08        409        218\n",
              "...          ...        ...        ...\n",
              "1090  2020-03-25          0          0\n",
              "1091  2020-03-26         11         13\n",
              "1092  2020-03-27         15         14\n",
              "1093  2020-03-30         13         12\n",
              "1094  2020-03-31         14          9\n",
              "\n",
              "[1095 rows x 3 columns]"
            ]
          },
          "execution_count": 11,
          "metadata": {},
          "output_type": "execute_result"
        }
      ],
      "source": [
        "df"
      ]
    },
    {
      "cell_type": "markdown",
      "metadata": {
        "id": "26pNp2MKkwqT"
      },
      "source": [
        "É possível perceber que na base de dados final possui linhas onde ambas as colunas \"Qt_almoco\" e \"Qt_jantar\" possuem valor igual à 0, podendo assim serem removidas, uma vez que se tratam de dias onde o RU não serviu nenhuma refeição. Com isso devemos partir para o próximo passo."
      ]
    },
    {
      "cell_type": "markdown",
      "metadata": {
        "id": "y_hnhtTSk7ii"
      },
      "source": [
        "## Scrub(Preparar)\n",
        "### Após a obtenção dos dados, eles precisam ser preparados para análise. Isso inclui a limpeza dos dados, removendo valores ausentes, tratando outliers e lidando com quaisquer problemas de qualidade dos dados. Além disso, pode envolver a seleção das variáveis relevantes para o projeto e a transformação dos dados em um formato adequado para a análise."
      ]
    },
    {
      "cell_type": "code",
      "execution_count": 12,
      "metadata": {
        "id": "E3Fhf2NblDHW"
      },
      "outputs": [],
      "source": [
        "# Laço de repetição que irá percorrer todas as linhas do nosso dataset\n",
        "for i in range(len(df)):\n",
        "  # Condição caso tanto a coluna \"Qt_almoco\" quanto a \"Qt_jantar\" tenham valor igual a 0\n",
        "  if(df['Qt_almoco'][i] == 0 & df[\"Qt_jantar\"][i] == 0):\n",
        "    # Caso ambas as colunas sejam possuam valor 0, a linha será removida\n",
        "    df.drop(i, inplace=True)\n",
        "\n",
        "# Uma vez removida todas as linhas, é preciso resetar o index para corresponder ao novo número de linhas da base final\n",
        "df = df.reset_index(drop=True)\n",
        "\n",
        "# Exibindo a base final depois de todas as modificações\n",
        "df\n",
        "\n",
        "# Gerando uma copia da base_final para uso posterior\n",
        "df_copia = df.copy()"
      ]
    },
    {
      "cell_type": "code",
      "execution_count": 13,
      "metadata": {
        "colab": {
          "base_uri": "https://localhost:8080/"
        },
        "id": "HT4NZFNblfLj",
        "outputId": "3c80ae2b-4071-4742-90a3-62bce30881e8"
      },
      "outputs": [
        {
          "name": "stdout",
          "output_type": "stream",
          "text": [
            "<class 'pandas.core.frame.DataFrame'>\n",
            "RangeIndex: 989 entries, 0 to 988\n",
            "Data columns (total 3 columns):\n",
            " #   Column     Non-Null Count  Dtype \n",
            "---  ------     --------------  ----- \n",
            " 0   Data       989 non-null    object\n",
            " 1   Qt_almoco  989 non-null    int64 \n",
            " 2   Qt_jantar  989 non-null    int64 \n",
            "dtypes: int64(2), object(1)\n",
            "memory usage: 23.3+ KB\n"
          ]
        }
      ],
      "source": [
        "df.info()"
      ]
    },
    {
      "cell_type": "code",
      "execution_count": 14,
      "metadata": {
        "colab": {
          "base_uri": "https://localhost:8080/"
        },
        "id": "25eVGMU6lpGi",
        "outputId": "dd1dee02-e3aa-4223-b566-f7dd93170dac"
      },
      "outputs": [
        {
          "data": {
            "text/plain": [
              "(989, 3)"
            ]
          },
          "execution_count": 14,
          "metadata": {},
          "output_type": "execute_result"
        }
      ],
      "source": [
        "df.shape"
      ]
    },
    {
      "cell_type": "markdown",
      "metadata": {
        "id": "kJLs0EHLIEhn"
      },
      "source": [
        "## Explore(Explorar)"
      ]
    },
    {
      "cell_type": "markdown",
      "metadata": {
        "id": "OYhSeNXRIKWw"
      },
      "source": [
        "Nesta etapa, os cientistas de dados exploram os dados por meio de análises estatísticas e visualizações. Eles procuram padrões, tendências e insights preliminares nos dados. Isso pode envolver a aplicação de técnicas de visualização de dados, como gráficos, histogramas e diagramas de dispersão, bem como a execução de análises estatísticas descritivas para resumir os dados."
      ]
    },
    {
      "cell_type": "code",
      "execution_count": 15,
      "metadata": {
        "colab": {
          "base_uri": "https://localhost:8080/",
          "height": 112
        },
        "id": "swL3XspYI78q",
        "outputId": "3e6f50b5-c189-436c-b47c-a1e4b1d055c9"
      },
      "outputs": [
        {
          "data": {
            "text/html": [
              "<div>\n",
              "<style scoped>\n",
              "    .dataframe tbody tr th:only-of-type {\n",
              "        vertical-align: middle;\n",
              "    }\n",
              "\n",
              "    .dataframe tbody tr th {\n",
              "        vertical-align: top;\n",
              "    }\n",
              "\n",
              "    .dataframe thead th {\n",
              "        text-align: right;\n",
              "    }\n",
              "</style>\n",
              "<table border=\"1\" class=\"dataframe\">\n",
              "  <thead>\n",
              "    <tr style=\"text-align: right;\">\n",
              "      <th></th>\n",
              "      <th>count</th>\n",
              "      <th>mean</th>\n",
              "      <th>std</th>\n",
              "      <th>min</th>\n",
              "      <th>25%</th>\n",
              "      <th>50%</th>\n",
              "      <th>75%</th>\n",
              "      <th>max</th>\n",
              "    </tr>\n",
              "  </thead>\n",
              "  <tbody>\n",
              "    <tr>\n",
              "      <th>Qt_almoco</th>\n",
              "      <td>989.0</td>\n",
              "      <td>575.455005</td>\n",
              "      <td>275.155269</td>\n",
              "      <td>9.0</td>\n",
              "      <td>282.0</td>\n",
              "      <td>672.0</td>\n",
              "      <td>791.0</td>\n",
              "      <td>1033.0</td>\n",
              "    </tr>\n",
              "    <tr>\n",
              "      <th>Qt_jantar</th>\n",
              "      <td>989.0</td>\n",
              "      <td>341.238625</td>\n",
              "      <td>213.154835</td>\n",
              "      <td>0.0</td>\n",
              "      <td>127.0</td>\n",
              "      <td>412.0</td>\n",
              "      <td>512.0</td>\n",
              "      <td>714.0</td>\n",
              "    </tr>\n",
              "  </tbody>\n",
              "</table>\n",
              "</div>"
            ],
            "text/plain": [
              "           count        mean         std  min    25%    50%    75%     max\n",
              "Qt_almoco  989.0  575.455005  275.155269  9.0  282.0  672.0  791.0  1033.0\n",
              "Qt_jantar  989.0  341.238625  213.154835  0.0  127.0  412.0  512.0   714.0"
            ]
          },
          "execution_count": 15,
          "metadata": {},
          "output_type": "execute_result"
        }
      ],
      "source": [
        "df.describe().transpose()"
      ]
    },
    {
      "cell_type": "markdown",
      "metadata": {
        "id": "wi3PKrwyJeCo"
      },
      "source": [
        "A tabela acima mostra algumas informações como por exemplo a média dos valores de cada coluna,a quantidade, valores mínimos e máximos e os quartis"
      ]
    },
    {
      "cell_type": "markdown",
      "metadata": {
        "id": "x0-uNeKcJfpP"
      },
      "source": [
        "Observando a tabela acima podemos concluir que:\n",
        "\n",
        "\n",
        "*   A média de almoço é maior que a de janta, ou seja, os estudantes vão mais para almoçar do que jantar.\n",
        "\n",
        "\n"
      ]
    },
    {
      "cell_type": "markdown",
      "metadata": {
        "id": "bczFogj0KsfZ"
      },
      "source": [
        "### Plotando gráfico Boxplot para melhor visualização"
      ]
    },
    {
      "cell_type": "code",
      "execution_count": 16,
      "metadata": {
        "colab": {
          "base_uri": "https://localhost:8080/",
          "height": 639
        },
        "id": "Aov3lTaeK4A6",
        "outputId": "5b946b9d-c263-4798-f228-6fcbc2182f1e"
      },
      "outputs": [
        {
          "data": {
            "text/plain": [
              "<function matplotlib.pyplot.show(close=None, block=None)>"
            ]
          },
          "execution_count": 16,
          "metadata": {},
          "output_type": "execute_result"
        },
        {
          "data": {
            "image/png": "[encoded data removed]",
            "text/plain": [
              "<Figure size 800x700 with 1 Axes>"
            ]
          },
          "metadata": {},
          "output_type": "display_data"
        }
      ],
      "source": [
        "df.boxplot(grid=False,figsize=(8,7))\n",
        "plt.title(\"Boxplot - RU data\")\n",
        "plt.show"
      ]
    },
    {
      "cell_type": "markdown",
      "metadata": {
        "id": "MuYg0g7dT5iL"
      },
      "source": [
        "Pelo gráfico acima podemos afirmar que o Restaurante Universitário é mais utilizado durante o dia do que a noite."
      ]
    },
    {
      "cell_type": "markdown",
      "metadata": {
        "id": "SOvKTrInUXoN"
      },
      "source": [
        "### Plotando histograma para visualizar a distribuição dos dados\n"
      ]
    },
    {
      "cell_type": "code",
      "execution_count": 17,
      "metadata": {
        "colab": {
          "base_uri": "https://localhost:8080/",
          "height": 699
        },
        "id": "UugrmwcXUb9i",
        "outputId": "5f2a3772-fe38-4444-ddf8-cd7604063ffd"
      },
      "outputs": [
        {
          "data": {
            "image/png": "[encoded data removed]",
            "text/plain": [
              "<Figure size 800x800 with 2 Axes>"
            ]
          },
          "metadata": {},
          "output_type": "display_data"
        }
      ],
      "source": [
        "df.hist(grid=False,figsize=(8,8))\n",
        "plt.show()"
      ]
    },
    {
      "cell_type": "markdown",
      "metadata": {
        "id": "vt8HGHEBVsVj"
      },
      "source": [
        "Primeiramente o que se conclui pelo histogrma é que os dados não seguem a distribuição normal."
      ]
    },
    {
      "cell_type": "markdown",
      "metadata": {
        "id": "FhF0XN4vVvp6"
      },
      "source": [
        "## Model(Modelagem)"
      ]
    },
    {
      "cell_type": "markdown",
      "metadata": {
        "id": "rRWbJTfeV2yj"
      },
      "source": [
        "Uma vez que os dados tenham sido explorados, é possível construir modelos estatísticos ou algoritmos de aprendizado de máquina para fazer previsões ou tomar decisões. Essa etapa envolve a seleção e construção de modelos apropriados para o problema em questão, bem como a avaliação e otimização desses modelos. Para esse DataSet será utilizadoRegrssão Linear e Floresta Aleatória."
      ]
    },
    {
      "cell_type": "markdown",
      "metadata": {
        "id": "EdcPEmRqWQUu"
      },
      "source": [
        "### Análise Quantidade de Almoço utilizando Regressão Linear e Floresta Aleatória"
      ]
    },
    {
      "cell_type": "code",
      "execution_count": 18,
      "metadata": {
        "colab": {
          "base_uri": "https://localhost:8080/"
        },
        "id": "MdRrAjqZWSM1",
        "outputId": "efecfa0d-d8ab-45a4-8f51-9951e2c50dea"
      },
      "outputs": [
        {
          "name": "stdout",
          "output_type": "stream",
          "text": [
            "<class 'pandas.core.frame.DataFrame'>\n",
            "RangeIndex: 989 entries, 0 to 988\n",
            "Data columns (total 3 columns):\n",
            " #   Column     Non-Null Count  Dtype         \n",
            "---  ------     --------------  -----         \n",
            " 0   Data       989 non-null    datetime64[ns]\n",
            " 1   Qt_almoco  989 non-null    int64         \n",
            " 2   Qt_jantar  989 non-null    int64         \n",
            "dtypes: datetime64[ns](1), int64(2)\n",
            "memory usage: 23.3 KB\n"
          ]
        }
      ],
      "source": [
        "df.Data = pd.to_datetime(df.Data) # Convertendo a coluna Data para o formata de data\n",
        "df.info()"
      ]
    },
    {
      "cell_type": "code",
      "execution_count": 19,
      "metadata": {
        "colab": {
          "base_uri": "https://localhost:8080/",
          "height": 206
        },
        "id": "gGTNAaI5XPVA",
        "outputId": "d23df751-2408-45d8-a701-14f72802d65c"
      },
      "outputs": [
        {
          "data": {
            "text/html": [
              "<div>\n",
              "<style scoped>\n",
              "    .dataframe tbody tr th:only-of-type {\n",
              "        vertical-align: middle;\n",
              "    }\n",
              "\n",
              "    .dataframe tbody tr th {\n",
              "        vertical-align: top;\n",
              "    }\n",
              "\n",
              "    .dataframe thead th {\n",
              "        text-align: right;\n",
              "    }\n",
              "</style>\n",
              "<table border=\"1\" class=\"dataframe\">\n",
              "  <thead>\n",
              "    <tr style=\"text-align: right;\">\n",
              "      <th></th>\n",
              "      <th>count</th>\n",
              "      <th>mean</th>\n",
              "      <th>min</th>\n",
              "      <th>25%</th>\n",
              "      <th>50%</th>\n",
              "      <th>75%</th>\n",
              "      <th>max</th>\n",
              "      <th>std</th>\n",
              "    </tr>\n",
              "  </thead>\n",
              "  <tbody>\n",
              "    <tr>\n",
              "      <th>Data</th>\n",
              "      <td>989</td>\n",
              "      <td>2018-02-18 23:58:32.639029248</td>\n",
              "      <td>2016-01-04 00:00:00</td>\n",
              "      <td>2017-02-02 00:00:00</td>\n",
              "      <td>2018-02-23 00:00:00</td>\n",
              "      <td>2019-03-15 00:00:00</td>\n",
              "      <td>2020-03-31 00:00:00</td>\n",
              "      <td>NaN</td>\n",
              "    </tr>\n",
              "    <tr>\n",
              "      <th>Qt_almoco</th>\n",
              "      <td>989.0</td>\n",
              "      <td>575.455005</td>\n",
              "      <td>9.0</td>\n",
              "      <td>282.0</td>\n",
              "      <td>672.0</td>\n",
              "      <td>791.0</td>\n",
              "      <td>1033.0</td>\n",
              "      <td>275.155269</td>\n",
              "    </tr>\n",
              "    <tr>\n",
              "      <th>Qt_jantar</th>\n",
              "      <td>989.0</td>\n",
              "      <td>341.238625</td>\n",
              "      <td>0.0</td>\n",
              "      <td>127.0</td>\n",
              "      <td>412.0</td>\n",
              "      <td>512.0</td>\n",
              "      <td>714.0</td>\n",
              "      <td>213.154835</td>\n",
              "    </tr>\n",
              "    <tr>\n",
              "      <th>ano</th>\n",
              "      <td>989.0</td>\n",
              "      <td>2017.659252</td>\n",
              "      <td>2016.0</td>\n",
              "      <td>2017.0</td>\n",
              "      <td>2018.0</td>\n",
              "      <td>2019.0</td>\n",
              "      <td>2020.0</td>\n",
              "      <td>1.227291</td>\n",
              "    </tr>\n",
              "    <tr>\n",
              "      <th>mes</th>\n",
              "      <td>989.0</td>\n",
              "      <td>6.240647</td>\n",
              "      <td>1.0</td>\n",
              "      <td>3.0</td>\n",
              "      <td>6.0</td>\n",
              "      <td>9.0</td>\n",
              "      <td>12.0</td>\n",
              "      <td>3.405569</td>\n",
              "    </tr>\n",
              "    <tr>\n",
              "      <th>dia</th>\n",
              "      <td>989.0</td>\n",
              "      <td>1.980789</td>\n",
              "      <td>0.0</td>\n",
              "      <td>1.0</td>\n",
              "      <td>2.0</td>\n",
              "      <td>3.0</td>\n",
              "      <td>4.0</td>\n",
              "      <td>1.411576</td>\n",
              "    </tr>\n",
              "  </tbody>\n",
              "</table>\n",
              "</div>"
            ],
            "text/plain": [
              "           count                           mean                  min  \\\n",
              "Data         989  2018-02-18 23:58:32.639029248  2016-01-04 00:00:00   \n",
              "Qt_almoco  989.0                     575.455005                  9.0   \n",
              "Qt_jantar  989.0                     341.238625                  0.0   \n",
              "ano        989.0                    2017.659252               2016.0   \n",
              "mes        989.0                       6.240647                  1.0   \n",
              "dia        989.0                       1.980789                  0.0   \n",
              "\n",
              "                           25%                  50%                  75%  \\\n",
              "Data       2017-02-02 00:00:00  2018-02-23 00:00:00  2019-03-15 00:00:00   \n",
              "Qt_almoco                282.0                672.0                791.0   \n",
              "Qt_jantar                127.0                412.0                512.0   \n",
              "ano                     2017.0               2018.0               2019.0   \n",
              "mes                        3.0                  6.0                  9.0   \n",
              "dia                        1.0                  2.0                  3.0   \n",
              "\n",
              "                           max         std  \n",
              "Data       2020-03-31 00:00:00         NaN  \n",
              "Qt_almoco               1033.0  275.155269  \n",
              "Qt_jantar                714.0  213.154835  \n",
              "ano                     2020.0    1.227291  \n",
              "mes                       12.0    3.405569  \n",
              "dia                        4.0    1.411576  "
            ]
          },
          "execution_count": 19,
          "metadata": {},
          "output_type": "execute_result"
        }
      ],
      "source": [
        "df['ano'] = df.Data.dt.year\n",
        "df['mes'] = df.Data.dt.month\n",
        "df['dia'] = df.Data.dt.dayofweek\n",
        "\n",
        "df.describe().transpose()"
      ]
    },
    {
      "cell_type": "markdown",
      "metadata": {
        "id": "YDEUjDfSXmsV"
      },
      "source": [
        "### Matriz de Correlação"
      ]
    },
    {
      "cell_type": "markdown",
      "metadata": {
        "id": "d3FDBgBuXrgz"
      },
      "source": [
        "O coeficiente de correlação é uma medida de associação entre duas variáveis e situa-se entre -1 e 1 sendo que -1 indica associação negativa perfeita e 1 indica associação positiva perfeita"
      ]
    },
    {
      "cell_type": "code",
      "execution_count": 20,
      "metadata": {
        "colab": {
          "base_uri": "https://localhost:8080/",
          "height": 261
        },
        "id": "N_sGZgruX6K0",
        "outputId": "51807ccd-817a-44d1-d4db-f6020de3d5d5"
      },
      "outputs": [
        {
          "data": {
            "text/html": [
              "<div>\n",
              "<style scoped>\n",
              "    .dataframe tbody tr th:only-of-type {\n",
              "        vertical-align: middle;\n",
              "    }\n",
              "\n",
              "    .dataframe tbody tr th {\n",
              "        vertical-align: top;\n",
              "    }\n",
              "\n",
              "    .dataframe thead th {\n",
              "        text-align: right;\n",
              "    }\n",
              "</style>\n",
              "<table border=\"1\" class=\"dataframe\">\n",
              "  <thead>\n",
              "    <tr style=\"text-align: right;\">\n",
              "      <th></th>\n",
              "      <th>Data</th>\n",
              "      <th>Qt_almoco</th>\n",
              "      <th>Qt_jantar</th>\n",
              "      <th>ano</th>\n",
              "      <th>mes</th>\n",
              "      <th>dia</th>\n",
              "    </tr>\n",
              "  </thead>\n",
              "  <tbody>\n",
              "    <tr>\n",
              "      <th>Data</th>\n",
              "      <td>1.000000</td>\n",
              "      <td>0.046296</td>\n",
              "      <td>0.004569</td>\n",
              "      <td>0.973118</td>\n",
              "      <td>0.073969</td>\n",
              "      <td>0.003640</td>\n",
              "    </tr>\n",
              "    <tr>\n",
              "      <th>Qt_almoco</th>\n",
              "      <td>0.046296</td>\n",
              "      <td>1.000000</td>\n",
              "      <td>0.970681</td>\n",
              "      <td>-0.023896</td>\n",
              "      <td>0.301487</td>\n",
              "      <td>-0.089731</td>\n",
              "    </tr>\n",
              "    <tr>\n",
              "      <th>Qt_jantar</th>\n",
              "      <td>0.004569</td>\n",
              "      <td>0.970681</td>\n",
              "      <td>1.000000</td>\n",
              "      <td>-0.068898</td>\n",
              "      <td>0.316817</td>\n",
              "      <td>-0.180785</td>\n",
              "    </tr>\n",
              "    <tr>\n",
              "      <th>ano</th>\n",
              "      <td>0.973118</td>\n",
              "      <td>-0.023896</td>\n",
              "      <td>-0.068898</td>\n",
              "      <td>1.000000</td>\n",
              "      <td>-0.156897</td>\n",
              "      <td>0.006734</td>\n",
              "    </tr>\n",
              "    <tr>\n",
              "      <th>mes</th>\n",
              "      <td>0.073969</td>\n",
              "      <td>0.301487</td>\n",
              "      <td>0.316817</td>\n",
              "      <td>-0.156897</td>\n",
              "      <td>1.000000</td>\n",
              "      <td>-0.013776</td>\n",
              "    </tr>\n",
              "    <tr>\n",
              "      <th>dia</th>\n",
              "      <td>0.003640</td>\n",
              "      <td>-0.089731</td>\n",
              "      <td>-0.180785</td>\n",
              "      <td>0.006734</td>\n",
              "      <td>-0.013776</td>\n",
              "      <td>1.000000</td>\n",
              "    </tr>\n",
              "  </tbody>\n",
              "</table>\n",
              "</div>"
            ],
            "text/plain": [
              "               Data  Qt_almoco  Qt_jantar       ano       mes       dia\n",
              "Data       1.000000   0.046296   0.004569  0.973118  0.073969  0.003640\n",
              "Qt_almoco  0.046296   1.000000   0.970681 -0.023896  0.301487 -0.089731\n",
              "Qt_jantar  0.004569   0.970681   1.000000 -0.068898  0.316817 -0.180785\n",
              "ano        0.973118  -0.023896  -0.068898  1.000000 -0.156897  0.006734\n",
              "mes        0.073969   0.301487   0.316817 -0.156897  1.000000 -0.013776\n",
              "dia        0.003640  -0.089731  -0.180785  0.006734 -0.013776  1.000000"
            ]
          },
          "execution_count": 20,
          "metadata": {},
          "output_type": "execute_result"
        }
      ],
      "source": [
        "df.corr()"
      ]
    },
    {
      "cell_type": "markdown",
      "metadata": {
        "id": "_cGhG_9hYHtq"
      },
      "source": [
        "Estimar um modelo de Machine Learing utilizando a técnica de Regresão Linear para demonstrar os impactos das variáveis disponibilizadas neste dataset sobre a quantidade de almoco e jantar (Y's). NO final do projeto teremos um modelo de previsão para o consumo médio de almoço segundo os inputs de da variável X."
      ]
    },
    {
      "cell_type": "code",
      "execution_count": 21,
      "metadata": {
        "colab": {
          "base_uri": "https://localhost:8080/"
        },
        "id": "X7oJFE4mYJ7a",
        "outputId": "76dd2f48-2595-43b0-dc19-c1a21271b4f2"
      },
      "outputs": [
        {
          "data": {
            "text/plain": [
              "(989, 6)"
            ]
          },
          "execution_count": 21,
          "metadata": {},
          "output_type": "execute_result"
        }
      ],
      "source": [
        "df.shape"
      ]
    },
    {
      "cell_type": "markdown",
      "metadata": {
        "id": "v7e51n1BYWQS"
      },
      "source": [
        "### Comportamento da Variável Dependente(Y)"
      ]
    },
    {
      "cell_type": "code",
      "execution_count": 22,
      "metadata": {
        "id": "nRCaOpUpYagD"
      },
      "outputs": [],
      "source": [
        "sns.set_palette(\"Accent\")\n",
        "sns.set_style(\"darkgrid\")"
      ]
    },
    {
      "cell_type": "code",
      "execution_count": 23,
      "metadata": {
        "colab": {
          "base_uri": "https://localhost:8080/",
          "height": 439
        },
        "id": "oTco5ZbIYc-p",
        "outputId": "2b78dd18-4f66-4a88-a5c1-d155f02e8cc0"
      },
      "outputs": [],
      "source": [
        "fig, ax = plt.subplots(figsize=(15, 6))\n",
        "ax.set_title('Quantidade de Almoços',fontsize=20)\n",
        "ax.set_ylabel('Quantidade', fontsize=16)\n",
        "ax.set_xlabel('Dias', fontsize=16)\n",
        "ax = df['Qt_almoco'].plot(fontsize=14)"
      ]
    },
    {
      "cell_type": "markdown",
      "metadata": {
        "id": "nXH78_G-YiyC"
      },
      "source": [
        "Modelos de regressão linear assumem, inicialmente, que a variável dependente segue uma distribuição normal."
      ]
    },
    {
      "cell_type": "code",
      "execution_count": 24,
      "metadata": {
        "colab": {
          "base_uri": "https://localhost:8080/",
          "height": 477
        },
        "id": "CrP2r3K9Ynvr",
        "outputId": "a853200e-937b-463b-f0e2-7ef43113375e"
      },
      "outputs": [
        {
          "data": {
            "text/plain": [
              "Text(0, 0.5, 'Quantidade')"
            ]
          },
          "execution_count": 24,
          "metadata": {},
          "output_type": "execute_result"
        }
      ],
      "source": [
        "sns.boxplot(data=df['Qt_almoco'])\n",
        "ax = sns.boxplot(data=df['Qt_almoco'], orient='v', width=0.2)\n",
        "ax.set_title('Quantidade de Almoços',fontsize=20)\n",
        "ax.set_ylabel('Quantidade', fontsize=16)"
      ]
    },
    {
      "cell_type": "markdown",
      "metadata": {
        "id": "V-62jfktbf2K"
      },
      "source": [
        "Plotando gráficos BoxPlot referentes aos dias da semanda, mês e ano."
      ]
    },
    {
      "cell_type": "code",
      "execution_count": 25,
      "metadata": {
        "colab": {
          "base_uri": "https://localhost:8080/",
          "height": 518
        },
        "id": "sVTXt1r-YxOy",
        "outputId": "0480c504-fb46-4cf0-9b46-987bebf7da9d"
      },
      "outputs": [
        {
          "data": {
            "text/plain": [
              "Text(0.5, 0, 'Dia da Semana')"
            ]
          },
          "execution_count": 25,
          "metadata": {},
          "output_type": "execute_result"
        }
      ],
      "source": [
        "ax = sns.boxplot(y='Qt_almoco', x='dia', data=df, orient='v', width=0.5)\n",
        "ax.figure.set_size_inches(10, 5)\n",
        "ax.set_title('Quantidade Almoço', fontsize=20)\n",
        "ax.set_ylabel('Quantidade', fontsize=16)\n",
        "ax.set_xlabel('Dia da Semana', fontsize=16)"
      ]
    },
    {
      "cell_type": "markdown",
      "metadata": {
        "id": "1y30lAKRZJSc"
      },
      "source": [
        "No gráfico acima :\n",
        "\n",
        "\n",
        "*  0 = segunda-feira\n",
        "*  1 = terça-feira\n",
        "* 2 = quarta-feira\n",
        "*  3 = quinta-feira\n",
        "* 4 = sexta-feira\n",
        "\n"
      ]
    },
    {
      "cell_type": "code",
      "execution_count": 26,
      "metadata": {
        "colab": {
          "base_uri": "https://localhost:8080/",
          "height": 553
        },
        "id": "w-NZHt1Hbr9l",
        "outputId": "29ac01b7-c78e-4f09-e68e-d37587abd581"
      },
      "outputs": [
        {
          "data": {
            "text/plain": [
              "Text(0.5, 0, 'Mes')"
            ]
          },
          "execution_count": 26,
          "metadata": {},
          "output_type": "execute_result"
        }
      ],
      "source": [
        "ax = sns.boxplot(y='Qt_almoco', x='mes', data=df, orient='v', width=0.5)\n",
        "ax.figure.set_size_inches(12, 6)\n",
        "ax.set_title('Quantidade Almoço', fontsize=20)\n",
        "ax.set_ylabel('Quantidade', fontsize=16)\n",
        "ax.set_xlabel('Mes', fontsize=16)"
      ]
    },
    {
      "cell_type": "code",
      "execution_count": 27,
      "metadata": {
        "colab": {
          "base_uri": "https://localhost:8080/",
          "height": 553
        },
        "id": "btdR7wUubzh5",
        "outputId": "c29de147-ce20-470f-e3e5-e84c13532893"
      },
      "outputs": [
        {
          "data": {
            "text/plain": [
              "Text(0.5, 0, 'Ano')"
            ]
          },
          "execution_count": 27,
          "metadata": {},
          "output_type": "execute_result"
        }
      ],
      "source": [
        "ax = sns.boxplot(y='Qt_almoco', x='ano', data=df, orient='v', width=0.5)\n",
        "ax.figure.set_size_inches(12, 6)\n",
        "ax.set_title('Quantidade Almoço', fontsize=20)\n",
        "ax.set_ylabel('Quantidade', fontsize=16)\n",
        "ax.set_xlabel('Ano', fontsize=16)"
      ]
    },
    {
      "cell_type": "markdown",
      "metadata": {
        "id": "L_4tYXEXcu9F"
      },
      "source": [
        "Distribuição de Frequências"
      ]
    },
    {
      "cell_type": "code",
      "execution_count": 28,
      "metadata": {
        "colab": {
          "base_uri": "https://localhost:8080/",
          "height": 729
        },
        "id": "1Rma6eE8c5I9",
        "outputId": "b58b9d74-daa9-48ea-97ce-1672f8d81000"
      },
      "outputs": [
        {
          "name": "stderr",
          "output_type": "stream",
          "text": [
            "/tmp/ipykernel_22703/1341703067.py:1: UserWarning: \n",
            "\n",
            "`distplot` is a deprecated function and will be removed in seaborn v0.14.0.\n",
            "\n",
            "Please adapt your code to use either `displot` (a figure-level function with\n",
            "similar flexibility) or `histplot` (an axes-level function for histograms).\n",
            "\n",
            "For a guide to updating your code to use the new functions, please see\n",
            "https://gist.github.com/mwaskom/de44147ed2974457ad6372750bbe5751\n",
            "\n",
            "  ax = sns.distplot(df['Qt_almoco'])\n"
          ]
        },
        {
          "data": {
            "text/plain": [
              "Text(0, 0.5, 'Quantidade')"
            ]
          },
          "execution_count": 28,
          "metadata": {},
          "output_type": "execute_result"
        }
      ],
      "source": [
        "ax = sns.distplot(df['Qt_almoco'])\n",
        "ax.figure.set_size_inches(12, 6)\n",
        "ax.set_title('Distrubuição de Frequências', fontsize=20)\n",
        "ax.set_ylabel('Quantidade', fontsize=16)"
      ]
    },
    {
      "cell_type": "markdown",
      "metadata": {
        "id": "UgollDeleVtv"
      },
      "source": [
        "Análise gráfica de variáveis dependentes e variáveis explicativas."
      ]
    },
    {
      "cell_type": "code",
      "execution_count": 29,
      "metadata": {
        "colab": {
          "base_uri": "https://localhost:8080/",
          "height": 960
        },
        "id": "Di84YkYGeWvJ",
        "outputId": "b9ef4c51-0346-44fe-88f5-2ae3add1f970"
      },
      "outputs": [
        {
          "name": "stderr",
          "output_type": "stream",
          "text": [
            "/home/aizen/dev/comp-eng/analise_data_ru/.venv/lib/python3.10/site-packages/seaborn/axisgrid.py:118: UserWarning: The figure layout has changed to tight\n",
            "  self._figure.tight_layout(*args, **kwargs)\n"
          ]
        }
      ],
      "source": [
        "ax = sns.pairplot(df)"
      ]
    },
    {
      "cell_type": "markdown",
      "metadata": {
        "id": "Zzb3z7s_ejbB"
      },
      "source": [
        "Dispersão entre as variáveis"
      ]
    },
    {
      "cell_type": "code",
      "execution_count": 30,
      "metadata": {
        "colab": {
          "base_uri": "https://localhost:8080/",
          "height": 563
        },
        "id": "814t-ESEemBq",
        "outputId": "50e37ae6-dbf5-4e70-f280-255671e23605"
      },
      "outputs": [
        {
          "name": "stderr",
          "output_type": "stream",
          "text": [
            "/home/aizen/dev/comp-eng/analise_data_ru/.venv/lib/python3.10/site-packages/seaborn/axisgrid.py:118: UserWarning: The figure layout has changed to tight\n",
            "  self._figure.tight_layout(*args, **kwargs)\n"
          ]
        },
        {
          "data": {
            "text/plain": [
              "Text(0.5, 1.05, 'Dispersão entre as Variáveis')"
            ]
          },
          "execution_count": 30,
          "metadata": {},
          "output_type": "execute_result"
        }
      ],
      "source": [
        "ax = sns.pairplot(df, y_vars='Qt_almoco', x_vars=['ano', 'mes','dia'],kind='reg')\n",
        "ax.figure.set_size_inches(14, 8)\n",
        "ax.fig.suptitle('Dispersão entre as Variáveis', fontsize=20, y=1.05)"
      ]
    },
    {
      "cell_type": "code",
      "execution_count": 31,
      "metadata": {
        "colab": {
          "base_uri": "https://localhost:8080/",
          "height": 552
        },
        "id": "zw-kJ4VTetoT",
        "outputId": "967c2977-92a2-4ca9-88a2-8f9367f723f7"
      },
      "outputs": [],
      "source": [
        "ax = sns.jointplot(x=\"dia\", y=\"Qt_almoco\", data=df, kind='reg')\n",
        "ax.fig.suptitle('Dispersão - Quantidade Almoço X Dia da Semana', fontsize=18, y=1.05)\n",
        "ax.set_axis_labels(\"Quantidade Máxima\", \"Quantidade de Almoço\", fontsize=14)\n",
        "ax.figure.set_size_inches(12,6)"
      ]
    },
    {
      "cell_type": "code",
      "execution_count": 32,
      "metadata": {
        "colab": {
          "base_uri": "https://localhost:8080/",
          "height": 559
        },
        "id": "kiZ3B1RXfFUH",
        "outputId": "95f6c405-9351-456f-8cf8-f9150d51745a"
      },
      "outputs": [
        {
          "name": "stderr",
          "output_type": "stream",
          "text": [
            "/home/aizen/dev/comp-eng/analise_data_ru/.venv/lib/python3.10/site-packages/seaborn/axisgrid.py:118: UserWarning: The figure layout has changed to tight\n",
            "  self._figure.tight_layout(*args, **kwargs)\n"
          ]
        }
      ],
      "source": [
        "ax= sns.lmplot(x=\"dia\", y=\"Qt_almoco\", data=df)\n",
        "ax.fig.suptitle('Reta de Regressao - Quantidade Almoco X Dia da Semna', fontsize=16, y=1.02)\n",
        "ax.set_xlabels(\"Dia da Semana\", fontsize=14)\n",
        "ax.set_ylabels(\"Quantidade de Almoco\", fontsize=14)\n",
        "ax.figure.set_size_inches(12,6)"
      ]
    },
    {
      "cell_type": "markdown",
      "metadata": {
        "id": "dKQb355IffDW"
      },
      "source": [
        "O objetivo é prever ou estimar o valor médio da variável dependente, tendo antes conhecido o valor das variáveis dependentes. Para tanto, utilizaremos o Scikit-learn, uma biblioteca especializada em machine learing que possui um ferramental completo para esse fim. Inicialmente, separaremos nossos dados em train e test para modelar nossa regressão e testá-la. Importaremos a função train_test_split do sckit-learn para executar esta tarefa. Precisaremos dividir o dataframe em series que contém a variável dependente e outro dataframe que contém as variáveis explicativas. Então criaremos:"
      ]
    },
    {
      "cell_type": "code",
      "execution_count": 33,
      "metadata": {
        "id": "C0lCnM2afghS"
      },
      "outputs": [],
      "source": [
        "y = df['Qt_almoco']"
      ]
    },
    {
      "cell_type": "code",
      "execution_count": 34,
      "metadata": {
        "colab": {
          "base_uri": "https://localhost:8080/",
          "height": 183
        },
        "id": "DTntnHKQflCI",
        "outputId": "564de1f2-dd95-411d-ac28-a3d48684c5c4"
      },
      "outputs": [
        {
          "data": {
            "text/html": [
              "<div>\n",
              "<style scoped>\n",
              "    .dataframe tbody tr th:only-of-type {\n",
              "        vertical-align: middle;\n",
              "    }\n",
              "\n",
              "    .dataframe tbody tr th {\n",
              "        vertical-align: top;\n",
              "    }\n",
              "\n",
              "    .dataframe thead th {\n",
              "        text-align: right;\n",
              "    }\n",
              "</style>\n",
              "<table border=\"1\" class=\"dataframe\">\n",
              "  <thead>\n",
              "    <tr style=\"text-align: right;\">\n",
              "      <th></th>\n",
              "      <th>ano</th>\n",
              "      <th>mes</th>\n",
              "      <th>dia</th>\n",
              "      <th>Qt_jantar</th>\n",
              "    </tr>\n",
              "  </thead>\n",
              "  <tbody>\n",
              "    <tr>\n",
              "      <th>0</th>\n",
              "      <td>2016</td>\n",
              "      <td>1</td>\n",
              "      <td>0</td>\n",
              "      <td>294</td>\n",
              "    </tr>\n",
              "    <tr>\n",
              "      <th>1</th>\n",
              "      <td>2016</td>\n",
              "      <td>1</td>\n",
              "      <td>1</td>\n",
              "      <td>363</td>\n",
              "    </tr>\n",
              "    <tr>\n",
              "      <th>2</th>\n",
              "      <td>2016</td>\n",
              "      <td>1</td>\n",
              "      <td>2</td>\n",
              "      <td>401</td>\n",
              "    </tr>\n",
              "    <tr>\n",
              "      <th>3</th>\n",
              "      <td>2016</td>\n",
              "      <td>1</td>\n",
              "      <td>3</td>\n",
              "      <td>349</td>\n",
              "    </tr>\n",
              "    <tr>\n",
              "      <th>4</th>\n",
              "      <td>2016</td>\n",
              "      <td>1</td>\n",
              "      <td>4</td>\n",
              "      <td>218</td>\n",
              "    </tr>\n",
              "    <tr>\n",
              "      <th>...</th>\n",
              "      <td>...</td>\n",
              "      <td>...</td>\n",
              "      <td>...</td>\n",
              "      <td>...</td>\n",
              "    </tr>\n",
              "    <tr>\n",
              "      <th>984</th>\n",
              "      <td>2020</td>\n",
              "      <td>3</td>\n",
              "      <td>1</td>\n",
              "      <td>9</td>\n",
              "    </tr>\n",
              "    <tr>\n",
              "      <th>985</th>\n",
              "      <td>2020</td>\n",
              "      <td>3</td>\n",
              "      <td>3</td>\n",
              "      <td>13</td>\n",
              "    </tr>\n",
              "    <tr>\n",
              "      <th>986</th>\n",
              "      <td>2020</td>\n",
              "      <td>3</td>\n",
              "      <td>4</td>\n",
              "      <td>14</td>\n",
              "    </tr>\n",
              "    <tr>\n",
              "      <th>987</th>\n",
              "      <td>2020</td>\n",
              "      <td>3</td>\n",
              "      <td>0</td>\n",
              "      <td>12</td>\n",
              "    </tr>\n",
              "    <tr>\n",
              "      <th>988</th>\n",
              "      <td>2020</td>\n",
              "      <td>3</td>\n",
              "      <td>1</td>\n",
              "      <td>9</td>\n",
              "    </tr>\n",
              "  </tbody>\n",
              "</table>\n",
              "<p>989 rows × 4 columns</p>\n",
              "</div>"
            ],
            "text/plain": [
              "      ano  mes  dia  Qt_jantar\n",
              "0    2016    1    0        294\n",
              "1    2016    1    1        363\n",
              "2    2016    1    2        401\n",
              "3    2016    1    3        349\n",
              "4    2016    1    4        218\n",
              "..    ...  ...  ...        ...\n",
              "984  2020    3    1          9\n",
              "985  2020    3    3         13\n",
              "986  2020    3    4         14\n",
              "987  2020    3    0         12\n",
              "988  2020    3    1          9\n",
              "\n",
              "[989 rows x 4 columns]"
            ]
          },
          "execution_count": 34,
          "metadata": {},
          "output_type": "execute_result"
        }
      ],
      "source": [
        "X = df[['ano', 'mes', 'dia','Qt_jantar']]\n",
        "X"
      ]
    },
    {
      "cell_type": "markdown",
      "metadata": {
        "id": "44_fUfa3fx6i"
      },
      "source": [
        "Essa função possui como retorno uma lista de quatro itens, e precisamos atribuir a cada elemento da lista o conteúdo das variáveis. O primeiro item da lista é o x de treino, o segundo é o x de teste, depois y de treino e y de teste.\n",
        "\n",
        "Configuraremos, ainda o test_size como 0.3,que se refere à quantidade de dados que usaremos para teste, então 30% dos dados serão selecionados de forma aleatória para a realização de testes do modelo, já o restante será para treino.\n",
        "\n",
        "O próximo parâmetro é o random_state. Ao fixarmos um valor, por exempLo 2811, teremos um conjunto de treino e de teste idênticos."
      ]
    },
    {
      "cell_type": "markdown",
      "metadata": {
        "id": "uVfsJq1-bHeI"
      },
      "source": [
        "##Regressão com a os dados do Jantar"
      ]
    },
    {
      "cell_type": "code",
      "execution_count": 44,
      "metadata": {},
      "outputs": [],
      "source": [
        "base_final = df"
      ]
    },
    {
      "cell_type": "markdown",
      "metadata": {
        "id": "y4mbfXm6bs64"
      },
      "source": [
        "### Usando Regressão Linear"
      ]
    },
    {
      "cell_type": "code",
      "execution_count": 45,
      "metadata": {
        "id": "jrZMb1jUg_-C"
      },
      "outputs": [
        {
          "data": {
            "text/html": [
              "<div>\n",
              "<style scoped>\n",
              "    .dataframe tbody tr th:only-of-type {\n",
              "        vertical-align: middle;\n",
              "    }\n",
              "\n",
              "    .dataframe tbody tr th {\n",
              "        vertical-align: top;\n",
              "    }\n",
              "\n",
              "    .dataframe thead th {\n",
              "        text-align: right;\n",
              "    }\n",
              "</style>\n",
              "<table border=\"1\" class=\"dataframe\">\n",
              "  <thead>\n",
              "    <tr style=\"text-align: right;\">\n",
              "      <th></th>\n",
              "      <th>Data</th>\n",
              "      <th>Qt_almoco</th>\n",
              "      <th>Qt_jantar</th>\n",
              "      <th>ano</th>\n",
              "      <th>mes</th>\n",
              "      <th>dia</th>\n",
              "    </tr>\n",
              "  </thead>\n",
              "  <tbody>\n",
              "    <tr>\n",
              "      <th>0</th>\n",
              "      <td>2016-01-04</td>\n",
              "      <td>364</td>\n",
              "      <td>294</td>\n",
              "      <td>2016</td>\n",
              "      <td>1</td>\n",
              "      <td>0</td>\n",
              "    </tr>\n",
              "    <tr>\n",
              "      <th>1</th>\n",
              "      <td>2016-01-05</td>\n",
              "      <td>489</td>\n",
              "      <td>363</td>\n",
              "      <td>2016</td>\n",
              "      <td>1</td>\n",
              "      <td>1</td>\n",
              "    </tr>\n",
              "    <tr>\n",
              "      <th>2</th>\n",
              "      <td>2016-01-06</td>\n",
              "      <td>522</td>\n",
              "      <td>401</td>\n",
              "      <td>2016</td>\n",
              "      <td>1</td>\n",
              "      <td>2</td>\n",
              "    </tr>\n",
              "    <tr>\n",
              "      <th>3</th>\n",
              "      <td>2016-01-07</td>\n",
              "      <td>514</td>\n",
              "      <td>349</td>\n",
              "      <td>2016</td>\n",
              "      <td>1</td>\n",
              "      <td>3</td>\n",
              "    </tr>\n",
              "    <tr>\n",
              "      <th>4</th>\n",
              "      <td>2016-01-08</td>\n",
              "      <td>409</td>\n",
              "      <td>218</td>\n",
              "      <td>2016</td>\n",
              "      <td>1</td>\n",
              "      <td>4</td>\n",
              "    </tr>\n",
              "    <tr>\n",
              "      <th>...</th>\n",
              "      <td>...</td>\n",
              "      <td>...</td>\n",
              "      <td>...</td>\n",
              "      <td>...</td>\n",
              "      <td>...</td>\n",
              "      <td>...</td>\n",
              "    </tr>\n",
              "    <tr>\n",
              "      <th>984</th>\n",
              "      <td>2020-03-24</td>\n",
              "      <td>10</td>\n",
              "      <td>9</td>\n",
              "      <td>2020</td>\n",
              "      <td>3</td>\n",
              "      <td>1</td>\n",
              "    </tr>\n",
              "    <tr>\n",
              "      <th>985</th>\n",
              "      <td>2020-03-26</td>\n",
              "      <td>11</td>\n",
              "      <td>13</td>\n",
              "      <td>2020</td>\n",
              "      <td>3</td>\n",
              "      <td>3</td>\n",
              "    </tr>\n",
              "    <tr>\n",
              "      <th>986</th>\n",
              "      <td>2020-03-27</td>\n",
              "      <td>15</td>\n",
              "      <td>14</td>\n",
              "      <td>2020</td>\n",
              "      <td>3</td>\n",
              "      <td>4</td>\n",
              "    </tr>\n",
              "    <tr>\n",
              "      <th>987</th>\n",
              "      <td>2020-03-30</td>\n",
              "      <td>13</td>\n",
              "      <td>12</td>\n",
              "      <td>2020</td>\n",
              "      <td>3</td>\n",
              "      <td>0</td>\n",
              "    </tr>\n",
              "    <tr>\n",
              "      <th>988</th>\n",
              "      <td>2020-03-31</td>\n",
              "      <td>14</td>\n",
              "      <td>9</td>\n",
              "      <td>2020</td>\n",
              "      <td>3</td>\n",
              "      <td>1</td>\n",
              "    </tr>\n",
              "  </tbody>\n",
              "</table>\n",
              "<p>989 rows × 6 columns</p>\n",
              "</div>"
            ],
            "text/plain": [
              "          Data  Qt_almoco  Qt_jantar   ano  mes  dia\n",
              "0   2016-01-04        364        294  2016    1    0\n",
              "1   2016-01-05        489        363  2016    1    1\n",
              "2   2016-01-06        522        401  2016    1    2\n",
              "3   2016-01-07        514        349  2016    1    3\n",
              "4   2016-01-08        409        218  2016    1    4\n",
              "..         ...        ...        ...   ...  ...  ...\n",
              "984 2020-03-24         10          9  2020    3    1\n",
              "985 2020-03-26         11         13  2020    3    3\n",
              "986 2020-03-27         15         14  2020    3    4\n",
              "987 2020-03-30         13         12  2020    3    0\n",
              "988 2020-03-31         14          9  2020    3    1\n",
              "\n",
              "[989 rows x 6 columns]"
            ]
          },
          "execution_count": 45,
          "metadata": {},
          "output_type": "execute_result"
        }
      ],
      "source": [
        "base_final"
      ]
    },
    {
      "cell_type": "code",
      "execution_count": 46,
      "metadata": {
        "id": "IHfLOl9PhU_l"
      },
      "outputs": [],
      "source": [
        "#renomeando algumas colunas\n",
        "base_final = base_final.rename(columns={'dia': 'dia_semana'})"
      ]
    },
    {
      "cell_type": "code",
      "execution_count": 47,
      "metadata": {
        "id": "8OWtWzcNhZyD"
      },
      "outputs": [
        {
          "data": {
            "text/html": [
              "<div>\n",
              "<style scoped>\n",
              "    .dataframe tbody tr th:only-of-type {\n",
              "        vertical-align: middle;\n",
              "    }\n",
              "\n",
              "    .dataframe tbody tr th {\n",
              "        vertical-align: top;\n",
              "    }\n",
              "\n",
              "    .dataframe thead th {\n",
              "        text-align: right;\n",
              "    }\n",
              "</style>\n",
              "<table border=\"1\" class=\"dataframe\">\n",
              "  <thead>\n",
              "    <tr style=\"text-align: right;\">\n",
              "      <th></th>\n",
              "      <th>Data</th>\n",
              "      <th>Qt_almoco</th>\n",
              "      <th>Qt_jantar</th>\n",
              "      <th>ano</th>\n",
              "      <th>mes</th>\n",
              "      <th>dia_semana</th>\n",
              "      <th>dia</th>\n",
              "    </tr>\n",
              "  </thead>\n",
              "  <tbody>\n",
              "    <tr>\n",
              "      <th>0</th>\n",
              "      <td>2016-01-04</td>\n",
              "      <td>364</td>\n",
              "      <td>294</td>\n",
              "      <td>2016</td>\n",
              "      <td>1</td>\n",
              "      <td>0</td>\n",
              "      <td>0</td>\n",
              "    </tr>\n",
              "    <tr>\n",
              "      <th>1</th>\n",
              "      <td>2016-01-05</td>\n",
              "      <td>489</td>\n",
              "      <td>363</td>\n",
              "      <td>2016</td>\n",
              "      <td>1</td>\n",
              "      <td>1</td>\n",
              "      <td>1</td>\n",
              "    </tr>\n",
              "    <tr>\n",
              "      <th>2</th>\n",
              "      <td>2016-01-06</td>\n",
              "      <td>522</td>\n",
              "      <td>401</td>\n",
              "      <td>2016</td>\n",
              "      <td>1</td>\n",
              "      <td>2</td>\n",
              "      <td>2</td>\n",
              "    </tr>\n",
              "    <tr>\n",
              "      <th>3</th>\n",
              "      <td>2016-01-07</td>\n",
              "      <td>514</td>\n",
              "      <td>349</td>\n",
              "      <td>2016</td>\n",
              "      <td>1</td>\n",
              "      <td>3</td>\n",
              "      <td>3</td>\n",
              "    </tr>\n",
              "    <tr>\n",
              "      <th>4</th>\n",
              "      <td>2016-01-08</td>\n",
              "      <td>409</td>\n",
              "      <td>218</td>\n",
              "      <td>2016</td>\n",
              "      <td>1</td>\n",
              "      <td>4</td>\n",
              "      <td>4</td>\n",
              "    </tr>\n",
              "    <tr>\n",
              "      <th>...</th>\n",
              "      <td>...</td>\n",
              "      <td>...</td>\n",
              "      <td>...</td>\n",
              "      <td>...</td>\n",
              "      <td>...</td>\n",
              "      <td>...</td>\n",
              "      <td>...</td>\n",
              "    </tr>\n",
              "    <tr>\n",
              "      <th>984</th>\n",
              "      <td>2020-03-24</td>\n",
              "      <td>10</td>\n",
              "      <td>9</td>\n",
              "      <td>2020</td>\n",
              "      <td>3</td>\n",
              "      <td>1</td>\n",
              "      <td>984</td>\n",
              "    </tr>\n",
              "    <tr>\n",
              "      <th>985</th>\n",
              "      <td>2020-03-26</td>\n",
              "      <td>11</td>\n",
              "      <td>13</td>\n",
              "      <td>2020</td>\n",
              "      <td>3</td>\n",
              "      <td>3</td>\n",
              "      <td>985</td>\n",
              "    </tr>\n",
              "    <tr>\n",
              "      <th>986</th>\n",
              "      <td>2020-03-27</td>\n",
              "      <td>15</td>\n",
              "      <td>14</td>\n",
              "      <td>2020</td>\n",
              "      <td>3</td>\n",
              "      <td>4</td>\n",
              "      <td>986</td>\n",
              "    </tr>\n",
              "    <tr>\n",
              "      <th>987</th>\n",
              "      <td>2020-03-30</td>\n",
              "      <td>13</td>\n",
              "      <td>12</td>\n",
              "      <td>2020</td>\n",
              "      <td>3</td>\n",
              "      <td>0</td>\n",
              "      <td>987</td>\n",
              "    </tr>\n",
              "    <tr>\n",
              "      <th>988</th>\n",
              "      <td>2020-03-31</td>\n",
              "      <td>14</td>\n",
              "      <td>9</td>\n",
              "      <td>2020</td>\n",
              "      <td>3</td>\n",
              "      <td>1</td>\n",
              "      <td>988</td>\n",
              "    </tr>\n",
              "  </tbody>\n",
              "</table>\n",
              "<p>989 rows × 7 columns</p>\n",
              "</div>"
            ],
            "text/plain": [
              "          Data  Qt_almoco  Qt_jantar   ano  mes  dia_semana  dia\n",
              "0   2016-01-04        364        294  2016    1           0    0\n",
              "1   2016-01-05        489        363  2016    1           1    1\n",
              "2   2016-01-06        522        401  2016    1           2    2\n",
              "3   2016-01-07        514        349  2016    1           3    3\n",
              "4   2016-01-08        409        218  2016    1           4    4\n",
              "..         ...        ...        ...   ...  ...         ...  ...\n",
              "984 2020-03-24         10          9  2020    3           1  984\n",
              "985 2020-03-26         11         13  2020    3           3  985\n",
              "986 2020-03-27         15         14  2020    3           4  986\n",
              "987 2020-03-30         13         12  2020    3           0  987\n",
              "988 2020-03-31         14          9  2020    3           1  988\n",
              "\n",
              "[989 rows x 7 columns]"
            ]
          },
          "execution_count": 47,
          "metadata": {},
          "output_type": "execute_result"
        }
      ],
      "source": [
        "base_final['dia'] = base_final.index\n",
        "base_final"
      ]
    },
    {
      "cell_type": "code",
      "execution_count": 71,
      "metadata": {
        "id": "PxvOGF-vhdy2"
      },
      "outputs": [
        {
          "data": {
            "text/html": [
              "<div>\n",
              "<style scoped>\n",
              "    .dataframe tbody tr th:only-of-type {\n",
              "        vertical-align: middle;\n",
              "    }\n",
              "\n",
              "    .dataframe tbody tr th {\n",
              "        vertical-align: top;\n",
              "    }\n",
              "\n",
              "    .dataframe thead th {\n",
              "        text-align: right;\n",
              "    }\n",
              "</style>\n",
              "<table border=\"1\" class=\"dataframe\">\n",
              "  <thead>\n",
              "    <tr style=\"text-align: right;\">\n",
              "      <th></th>\n",
              "      <th>dia</th>\n",
              "      <th>Data</th>\n",
              "      <th>ano</th>\n",
              "      <th>mes</th>\n",
              "      <th>dia_semana</th>\n",
              "      <th>Qt_almoco</th>\n",
              "      <th>Qt_jantar</th>\n",
              "    </tr>\n",
              "  </thead>\n",
              "  <tbody>\n",
              "    <tr>\n",
              "      <th>0</th>\n",
              "      <td>0</td>\n",
              "      <td>2016-01-04</td>\n",
              "      <td>2016</td>\n",
              "      <td>1</td>\n",
              "      <td>0</td>\n",
              "      <td>364</td>\n",
              "      <td>294</td>\n",
              "    </tr>\n",
              "    <tr>\n",
              "      <th>1</th>\n",
              "      <td>1</td>\n",
              "      <td>2016-01-05</td>\n",
              "      <td>2016</td>\n",
              "      <td>1</td>\n",
              "      <td>1</td>\n",
              "      <td>489</td>\n",
              "      <td>363</td>\n",
              "    </tr>\n",
              "    <tr>\n",
              "      <th>2</th>\n",
              "      <td>2</td>\n",
              "      <td>2016-01-06</td>\n",
              "      <td>2016</td>\n",
              "      <td>1</td>\n",
              "      <td>2</td>\n",
              "      <td>522</td>\n",
              "      <td>401</td>\n",
              "    </tr>\n",
              "    <tr>\n",
              "      <th>3</th>\n",
              "      <td>3</td>\n",
              "      <td>2016-01-07</td>\n",
              "      <td>2016</td>\n",
              "      <td>1</td>\n",
              "      <td>3</td>\n",
              "      <td>514</td>\n",
              "      <td>349</td>\n",
              "    </tr>\n",
              "    <tr>\n",
              "      <th>4</th>\n",
              "      <td>4</td>\n",
              "      <td>2016-01-08</td>\n",
              "      <td>2016</td>\n",
              "      <td>1</td>\n",
              "      <td>4</td>\n",
              "      <td>409</td>\n",
              "      <td>218</td>\n",
              "    </tr>\n",
              "    <tr>\n",
              "      <th>...</th>\n",
              "      <td>...</td>\n",
              "      <td>...</td>\n",
              "      <td>...</td>\n",
              "      <td>...</td>\n",
              "      <td>...</td>\n",
              "      <td>...</td>\n",
              "      <td>...</td>\n",
              "    </tr>\n",
              "    <tr>\n",
              "      <th>984</th>\n",
              "      <td>984</td>\n",
              "      <td>2020-03-24</td>\n",
              "      <td>2020</td>\n",
              "      <td>3</td>\n",
              "      <td>1</td>\n",
              "      <td>10</td>\n",
              "      <td>9</td>\n",
              "    </tr>\n",
              "    <tr>\n",
              "      <th>985</th>\n",
              "      <td>985</td>\n",
              "      <td>2020-03-26</td>\n",
              "      <td>2020</td>\n",
              "      <td>3</td>\n",
              "      <td>3</td>\n",
              "      <td>11</td>\n",
              "      <td>13</td>\n",
              "    </tr>\n",
              "    <tr>\n",
              "      <th>986</th>\n",
              "      <td>986</td>\n",
              "      <td>2020-03-27</td>\n",
              "      <td>2020</td>\n",
              "      <td>3</td>\n",
              "      <td>4</td>\n",
              "      <td>15</td>\n",
              "      <td>14</td>\n",
              "    </tr>\n",
              "    <tr>\n",
              "      <th>987</th>\n",
              "      <td>987</td>\n",
              "      <td>2020-03-30</td>\n",
              "      <td>2020</td>\n",
              "      <td>3</td>\n",
              "      <td>0</td>\n",
              "      <td>13</td>\n",
              "      <td>12</td>\n",
              "    </tr>\n",
              "    <tr>\n",
              "      <th>988</th>\n",
              "      <td>988</td>\n",
              "      <td>2020-03-31</td>\n",
              "      <td>2020</td>\n",
              "      <td>3</td>\n",
              "      <td>1</td>\n",
              "      <td>14</td>\n",
              "      <td>9</td>\n",
              "    </tr>\n",
              "  </tbody>\n",
              "</table>\n",
              "<p>989 rows × 7 columns</p>\n",
              "</div>"
            ],
            "text/plain": [
              "     dia       Data   ano  mes  dia_semana  Qt_almoco  Qt_jantar\n",
              "0      0 2016-01-04  2016    1           0        364        294\n",
              "1      1 2016-01-05  2016    1           1        489        363\n",
              "2      2 2016-01-06  2016    1           2        522        401\n",
              "3      3 2016-01-07  2016    1           3        514        349\n",
              "4      4 2016-01-08  2016    1           4        409        218\n",
              "..   ...        ...   ...  ...         ...        ...        ...\n",
              "984  984 2020-03-24  2020    3           1         10          9\n",
              "985  985 2020-03-26  2020    3           3         11         13\n",
              "986  986 2020-03-27  2020    3           4         15         14\n",
              "987  987 2020-03-30  2020    3           0         13         12\n",
              "988  988 2020-03-31  2020    3           1         14          9\n",
              "\n",
              "[989 rows x 7 columns]"
            ]
          },
          "execution_count": 71,
          "metadata": {},
          "output_type": "execute_result"
        }
      ],
      "source": [
        "#alterando a ordem das colunas\n",
        "base_final = base_final[['dia', 'Data', 'ano', 'mes', 'dia_semana', 'Qt_almoco', 'Qt_jantar']]\n",
        "base_final"
      ]
    },
    {
      "cell_type": "code",
      "execution_count": 73,
      "metadata": {},
      "outputs": [],
      "source": [
        "base_final.to_csv(ROOT_PATH / 'data' / 'processed' / 'final_base.csv', sep=',', index=False)"
      ]
    },
    {
      "cell_type": "code",
      "execution_count": 74,
      "metadata": {
        "id": "hoqKAY5whhma"
      },
      "outputs": [
        {
          "data": {
            "text/plain": [
              "[<matplotlib.lines.Line2D at 0x7fee648b7e80>]"
            ]
          },
          "execution_count": 74,
          "metadata": {},
          "output_type": "execute_result"
        }
      ],
      "source": [
        "plt.figure(figsize=(15,7))\n",
        "plt.plot(base_final['dia'], base_final['Qt_jantar'])"
      ]
    },
    {
      "cell_type": "code",
      "execution_count": 75,
      "metadata": {
        "id": "QiBe4tJthlZM"
      },
      "outputs": [],
      "source": [
        "y = base_final['Qt_jantar']\n",
        "X = base_final[['dia', 'dia_semana', 'Qt_almoco']]"
      ]
    },
    {
      "cell_type": "code",
      "execution_count": 76,
      "metadata": {
        "id": "rmqf0HINhorV"
      },
      "outputs": [],
      "source": [
        "X_train, X_test, y_train, y_test = train_test_split(X, y, test_size=0.3, random_state=2811)"
      ]
    },
    {
      "cell_type": "code",
      "execution_count": 77,
      "metadata": {
        "id": "AZYb85b_hri2"
      },
      "outputs": [
        {
          "data": {
            "text/html": [
              "<style>#sk-container-id-4 {color: black;background-color: white;}#sk-container-id-4 pre{padding: 0;}#sk-container-id-4 div.sk-toggleable {background-color: white;}#sk-container-id-4 label.sk-toggleable__label {cursor: pointer;display: block;width: 100%;margin-bottom: 0;padding: 0.3em;box-sizing: border-box;text-align: center;}#sk-container-id-4 label.sk-toggleable__label-arrow:before {content: \"▸\";float: left;margin-right: 0.25em;color: #696969;}#sk-container-id-4 label.sk-toggleable__label-arrow:hover:before {color: black;}#sk-container-id-4 div.sk-estimator:hover label.sk-toggleable__label-arrow:before {color: black;}#sk-container-id-4 div.sk-toggleable__content {max-height: 0;max-width: 0;overflow: hidden;text-align: left;background-color: #f0f8ff;}#sk-container-id-4 div.sk-toggleable__content pre {margin: 0.2em;color: black;border-radius: 0.25em;background-color: #f0f8ff;}#sk-container-id-4 input.sk-toggleable__control:checked~div.sk-toggleable__content {max-height: 200px;max-width: 100%;overflow: auto;}#sk-container-id-4 input.sk-toggleable__control:checked~label.sk-toggleable__label-arrow:before {content: \"▾\";}#sk-container-id-4 div.sk-estimator input.sk-toggleable__control:checked~label.sk-toggleable__label {background-color: #d4ebff;}#sk-container-id-4 div.sk-label input.sk-toggleable__control:checked~label.sk-toggleable__label {background-color: #d4ebff;}#sk-container-id-4 input.sk-hidden--visually {border: 0;clip: rect(1px 1px 1px 1px);clip: rect(1px, 1px, 1px, 1px);height: 1px;margin: -1px;overflow: hidden;padding: 0;position: absolute;width: 1px;}#sk-container-id-4 div.sk-estimator {font-family: monospace;background-color: #f0f8ff;border: 1px dotted black;border-radius: 0.25em;box-sizing: border-box;margin-bottom: 0.5em;}#sk-container-id-4 div.sk-estimator:hover {background-color: #d4ebff;}#sk-container-id-4 div.sk-parallel-item::after {content: \"\";width: 100%;border-bottom: 1px solid gray;flex-grow: 1;}#sk-container-id-4 div.sk-label:hover label.sk-toggleable__label {background-color: #d4ebff;}#sk-container-id-4 div.sk-serial::before {content: \"\";position: absolute;border-left: 1px solid gray;box-sizing: border-box;top: 0;bottom: 0;left: 50%;z-index: 0;}#sk-container-id-4 div.sk-serial {display: flex;flex-direction: column;align-items: center;background-color: white;padding-right: 0.2em;padding-left: 0.2em;position: relative;}#sk-container-id-4 div.sk-item {position: relative;z-index: 1;}#sk-container-id-4 div.sk-parallel {display: flex;align-items: stretch;justify-content: center;background-color: white;position: relative;}#sk-container-id-4 div.sk-item::before, #sk-container-id-4 div.sk-parallel-item::before {content: \"\";position: absolute;border-left: 1px solid gray;box-sizing: border-box;top: 0;bottom: 0;left: 50%;z-index: -1;}#sk-container-id-4 div.sk-parallel-item {display: flex;flex-direction: column;z-index: 1;position: relative;background-color: white;}#sk-container-id-4 div.sk-parallel-item:first-child::after {align-self: flex-end;width: 50%;}#sk-container-id-4 div.sk-parallel-item:last-child::after {align-self: flex-start;width: 50%;}#sk-container-id-4 div.sk-parallel-item:only-child::after {width: 0;}#sk-container-id-4 div.sk-dashed-wrapped {border: 1px dashed gray;margin: 0 0.4em 0.5em 0.4em;box-sizing: border-box;padding-bottom: 0.4em;background-color: white;}#sk-container-id-4 div.sk-label label {font-family: monospace;font-weight: bold;display: inline-block;line-height: 1.2em;}#sk-container-id-4 div.sk-label-container {text-align: center;}#sk-container-id-4 div.sk-container {/* jupyter's `normalize.less` sets `[hidden] { display: none; }` but bootstrap.min.css set `[hidden] { display: none !important; }` so we also need the `!important` here to be able to override the default hidden behavior on the sphinx rendered scikit-learn.org. See: https://github.com/scikit-learn/scikit-learn/issues/21755 */display: inline-block !important;position: relative;}#sk-container-id-4 div.sk-text-repr-fallback {display: none;}</style><div id=\"sk-container-id-4\" class=\"sk-top-container\"><div class=\"sk-text-repr-fallback\"><pre>LinearRegression()</pre><b>In a Jupyter environment, please rerun this cell to show the HTML representation or trust the notebook. <br />On GitHub, the HTML representation is unable to render, please try loading this page with nbviewer.org.</b></div><div class=\"sk-container\" hidden><div class=\"sk-item\"><div class=\"sk-estimator sk-toggleable\"><input class=\"sk-toggleable__control sk-hidden--visually\" id=\"sk-estimator-id-4\" type=\"checkbox\" checked><label for=\"sk-estimator-id-4\" class=\"sk-toggleable__label sk-toggleable__label-arrow\">LinearRegression</label><div class=\"sk-toggleable__content\"><pre>LinearRegression()</pre></div></div></div></div></div>"
            ],
            "text/plain": [
              "LinearRegression()"
            ]
          },
          "execution_count": 77,
          "metadata": {},
          "output_type": "execute_result"
        }
      ],
      "source": [
        "modelo = LinearRegression()\n",
        "modelo.fit(X_train, y_train)"
      ]
    },
    {
      "cell_type": "code",
      "execution_count": 78,
      "metadata": {
        "id": "Ehx8BUqahuJa"
      },
      "outputs": [
        {
          "name": "stdout",
          "output_type": "stream",
          "text": [
            "R² = 0.95\n"
          ]
        }
      ],
      "source": [
        "print('R² = {}'.format(modelo.score(X_train, y_train).round(2)))"
      ]
    },
    {
      "cell_type": "code",
      "execution_count": 79,
      "metadata": {
        "id": "WecQAdgLhxUd"
      },
      "outputs": [],
      "source": [
        "y_predict = modelo.predict(X_test)"
      ]
    },
    {
      "cell_type": "code",
      "execution_count": 80,
      "metadata": {
        "id": "qA_7W6ofh21P"
      },
      "outputs": [
        {
          "data": {
            "text/plain": [
              "Text(0.5, 1.0, 'Quantidade de jantares tidos e previstos')"
            ]
          },
          "execution_count": 80,
          "metadata": {},
          "output_type": "execute_result"
        }
      ],
      "source": [
        "plt.figure(figsize=(14,7))\n",
        "plt.scatter(X_train['Qt_almoco'], y_train)\n",
        "plt.scatter(X_test['Qt_almoco'], y_predict, color='red')\n",
        "plt.legend(['treino' , 'teste'])\n",
        "plt.xlabel('Quantidade de almoço')\n",
        "plt.ylabel('Quantidade de jantares')\n",
        "plt.title('Quantidade de jantares tidos e previstos')"
      ]
    },
    {
      "cell_type": "markdown",
      "metadata": {
        "id": "F2Nj5xN8mBqG"
      },
      "source": [
        "### Usando Floresta Aleatória"
      ]
    },
    {
      "cell_type": "code",
      "execution_count": 81,
      "metadata": {
        "id": "ZmgPlekcmx3h"
      },
      "outputs": [],
      "source": [
        "florestaAleatoriaFunction = RandomForestRegressor(n_estimators = 50, max_features = 'sqrt', max_depth = 2, random_state = 2811)"
      ]
    },
    {
      "cell_type": "code",
      "execution_count": 82,
      "metadata": {
        "id": "663Spuxmm6Mh"
      },
      "outputs": [
        {
          "data": {
            "text/html": [
              "<style>#sk-container-id-5 {color: black;background-color: white;}#sk-container-id-5 pre{padding: 0;}#sk-container-id-5 div.sk-toggleable {background-color: white;}#sk-container-id-5 label.sk-toggleable__label {cursor: pointer;display: block;width: 100%;margin-bottom: 0;padding: 0.3em;box-sizing: border-box;text-align: center;}#sk-container-id-5 label.sk-toggleable__label-arrow:before {content: \"▸\";float: left;margin-right: 0.25em;color: #696969;}#sk-container-id-5 label.sk-toggleable__label-arrow:hover:before {color: black;}#sk-container-id-5 div.sk-estimator:hover label.sk-toggleable__label-arrow:before {color: black;}#sk-container-id-5 div.sk-toggleable__content {max-height: 0;max-width: 0;overflow: hidden;text-align: left;background-color: #f0f8ff;}#sk-container-id-5 div.sk-toggleable__content pre {margin: 0.2em;color: black;border-radius: 0.25em;background-color: #f0f8ff;}#sk-container-id-5 input.sk-toggleable__control:checked~div.sk-toggleable__content {max-height: 200px;max-width: 100%;overflow: auto;}#sk-container-id-5 input.sk-toggleable__control:checked~label.sk-toggleable__label-arrow:before {content: \"▾\";}#sk-container-id-5 div.sk-estimator input.sk-toggleable__control:checked~label.sk-toggleable__label {background-color: #d4ebff;}#sk-container-id-5 div.sk-label input.sk-toggleable__control:checked~label.sk-toggleable__label {background-color: #d4ebff;}#sk-container-id-5 input.sk-hidden--visually {border: 0;clip: rect(1px 1px 1px 1px);clip: rect(1px, 1px, 1px, 1px);height: 1px;margin: -1px;overflow: hidden;padding: 0;position: absolute;width: 1px;}#sk-container-id-5 div.sk-estimator {font-family: monospace;background-color: #f0f8ff;border: 1px dotted black;border-radius: 0.25em;box-sizing: border-box;margin-bottom: 0.5em;}#sk-container-id-5 div.sk-estimator:hover {background-color: #d4ebff;}#sk-container-id-5 div.sk-parallel-item::after {content: \"\";width: 100%;border-bottom: 1px solid gray;flex-grow: 1;}#sk-container-id-5 div.sk-label:hover label.sk-toggleable__label {background-color: #d4ebff;}#sk-container-id-5 div.sk-serial::before {content: \"\";position: absolute;border-left: 1px solid gray;box-sizing: border-box;top: 0;bottom: 0;left: 50%;z-index: 0;}#sk-container-id-5 div.sk-serial {display: flex;flex-direction: column;align-items: center;background-color: white;padding-right: 0.2em;padding-left: 0.2em;position: relative;}#sk-container-id-5 div.sk-item {position: relative;z-index: 1;}#sk-container-id-5 div.sk-parallel {display: flex;align-items: stretch;justify-content: center;background-color: white;position: relative;}#sk-container-id-5 div.sk-item::before, #sk-container-id-5 div.sk-parallel-item::before {content: \"\";position: absolute;border-left: 1px solid gray;box-sizing: border-box;top: 0;bottom: 0;left: 50%;z-index: -1;}#sk-container-id-5 div.sk-parallel-item {display: flex;flex-direction: column;z-index: 1;position: relative;background-color: white;}#sk-container-id-5 div.sk-parallel-item:first-child::after {align-self: flex-end;width: 50%;}#sk-container-id-5 div.sk-parallel-item:last-child::after {align-self: flex-start;width: 50%;}#sk-container-id-5 div.sk-parallel-item:only-child::after {width: 0;}#sk-container-id-5 div.sk-dashed-wrapped {border: 1px dashed gray;margin: 0 0.4em 0.5em 0.4em;box-sizing: border-box;padding-bottom: 0.4em;background-color: white;}#sk-container-id-5 div.sk-label label {font-family: monospace;font-weight: bold;display: inline-block;line-height: 1.2em;}#sk-container-id-5 div.sk-label-container {text-align: center;}#sk-container-id-5 div.sk-container {/* jupyter's `normalize.less` sets `[hidden] { display: none; }` but bootstrap.min.css set `[hidden] { display: none !important; }` so we also need the `!important` here to be able to override the default hidden behavior on the sphinx rendered scikit-learn.org. See: https://github.com/scikit-learn/scikit-learn/issues/21755 */display: inline-block !important;position: relative;}#sk-container-id-5 div.sk-text-repr-fallback {display: none;}</style><div id=\"sk-container-id-5\" class=\"sk-top-container\"><div class=\"sk-text-repr-fallback\"><pre>RandomForestRegressor(max_depth=2, max_features=&#x27;sqrt&#x27;, n_estimators=50,\n",
              "                      random_state=2811)</pre><b>In a Jupyter environment, please rerun this cell to show the HTML representation or trust the notebook. <br />On GitHub, the HTML representation is unable to render, please try loading this page with nbviewer.org.</b></div><div class=\"sk-container\" hidden><div class=\"sk-item\"><div class=\"sk-estimator sk-toggleable\"><input class=\"sk-toggleable__control sk-hidden--visually\" id=\"sk-estimator-id-5\" type=\"checkbox\" checked><label for=\"sk-estimator-id-5\" class=\"sk-toggleable__label sk-toggleable__label-arrow\">RandomForestRegressor</label><div class=\"sk-toggleable__content\"><pre>RandomForestRegressor(max_depth=2, max_features=&#x27;sqrt&#x27;, n_estimators=50,\n",
              "                      random_state=2811)</pre></div></div></div></div></div>"
            ],
            "text/plain": [
              "RandomForestRegressor(max_depth=2, max_features='sqrt', n_estimators=50,\n",
              "                      random_state=2811)"
            ]
          },
          "execution_count": 82,
          "metadata": {},
          "output_type": "execute_result"
        }
      ],
      "source": [
        "florestaAleatoriaFunction.fit(X_train, y_train)"
      ]
    },
    {
      "cell_type": "code",
      "execution_count": 83,
      "metadata": {
        "id": "FgjbMUtPm9Yd"
      },
      "outputs": [],
      "source": [
        "y_pred = florestaAleatoriaFunction.predict(X_test)"
      ]
    },
    {
      "cell_type": "code",
      "execution_count": 84,
      "metadata": {
        "id": "udIzSXkInOOp"
      },
      "outputs": [
        {
          "data": {
            "text/plain": [
              "0.7962062437300714"
            ]
          },
          "execution_count": 84,
          "metadata": {},
          "output_type": "execute_result"
        }
      ],
      "source": [
        "r2_score(y_test,y_pred)"
      ]
    },
    {
      "cell_type": "code",
      "execution_count": 85,
      "metadata": {
        "id": "HVF_tW3tnUm6"
      },
      "outputs": [
        {
          "data": {
            "text/plain": [
              "Text(0.5, 1.0, 'Quantidade de jantares tidos e previstos')"
            ]
          },
          "execution_count": 85,
          "metadata": {},
          "output_type": "execute_result"
        }
      ],
      "source": [
        "plt.figure(figsize=(14,7))\n",
        "plt.scatter(X_train['Qt_almoco'], y_train)\n",
        "plt.scatter(X_test['Qt_almoco'], y_pred, color='red')\n",
        "plt.legend(['treino' , 'teste'])\n",
        "plt.xlabel('Quantidade de almoço')\n",
        "plt.ylabel('Quantidade de jantares')\n",
        "plt.title('Quantidade de jantares tidos e previstos')"
      ]
    },
    {
      "cell_type": "markdown",
      "metadata": {
        "id": "8GC8Yo63naBk"
      },
      "source": [
        "# Séries temporais"
      ]
    },
    {
      "cell_type": "markdown",
      "metadata": {
        "id": "Xi6Wf_aMnq4z"
      },
      "source": [
        "Implementação Series Temporais. Analisando os dados do dataframe percebemos que a coluna Data é do tipo object e teremos que alterar para Datetime.\n",
        "\n",
        "Como mais a frente faremos a analise dos dados referentes a almoço e jantar separadamente, criaremos dataframes para cada um antecipadamente pois precisaremos limpar novamente retirando os valores zero, como foi falado anteriormente so limpamos quando Qt_almoco e Qt_jantar eram zero pois teriam casos que Qt_almoco teria dados mas Qt_jantar não."
      ]
    },
    {
      "cell_type": "markdown",
      "metadata": {},
      "source": []
    },
    {
      "cell_type": "markdown",
      "metadata": {},
      "source": []
    }
  ],
  "metadata": {
    "colab": {
      "provenance": [],
      "toc_visible": true
    },
    "kernelspec": {
      "display_name": "Python 3",
      "name": "python3"
    },
    "language_info": {
      "codemirror_mode": {
        "name": "ipython",
        "version": 3
      },
      "file_extension": ".py",
      "mimetype": "text/x-python",
      "name": "python",
      "nbconvert_exporter": "python",
      "pygments_lexer": "ipython3",
      "version": "3.10.9"
    }
  },
  "nbformat": 4,
  "nbformat_minor": 0
}
